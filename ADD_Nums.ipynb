{
  "nbformat": 4,
  "nbformat_minor": 0,
  "metadata": {
    "colab": {
      "provenance": [],
      "authorship_tag": "ABX9TyMsH7ZrGIXc3DiDf6rIPmBq",
      "include_colab_link": true
    },
    "kernelspec": {
      "name": "python3",
      "display_name": "Python 3"
    },
    "language_info": {
      "name": "python"
    }
  },
  "cells": [
    {
      "cell_type": "markdown",
      "metadata": {
        "id": "view-in-github",
        "colab_type": "text"
      },
      "source": [
        "<a href=\"https://colab.research.google.com/github/TALHAdevelops/45-Questions-Assignment/blob/main/ADD_Nums.ipynb\" target=\"_parent\"><img src=\"https://colab.research.google.com/assets/colab-badge.svg\" alt=\"Open In Colab\"/></a>"
      ]
    },
    {
      "cell_type": "code",
      "execution_count": 2,
      "metadata": {
        "colab": {
          "base_uri": "https://localhost:8080/"
        },
        "id": "_S61cCiNkHyo",
        "outputId": "3ff9f400-c9fa-4a2a-f558-66134f5f2db0"
      },
      "outputs": [
        {
          "output_type": "stream",
          "name": "stdout",
          "text": [
            "Enter the first number: 2\n",
            "Enter the second number: 2\n",
            "4\n"
          ]
        }
      ],
      "source": [
        "user_num1 = input(\"Enter the first number: \")\n",
        "num1 = int(user_num1)\n",
        "user_num2 = input(\"Enter the second number: \")\n",
        "num2 = int(user_num2)\n",
        "\n",
        "Result = num1 + num2\n",
        "print(Result)"
      ]
    }
  ]
}